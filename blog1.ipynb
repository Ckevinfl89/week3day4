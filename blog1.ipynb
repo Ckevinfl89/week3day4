{
 "cells": [
  {
   "cell_type": "code",
   "execution_count": 10,
   "id": "7a7181d4",
   "metadata": {},
   "outputs": [],
   "source": [
    "class User:\n",
    "    id_counter = 1\n",
    "    \n",
    "    def __init__(self, username, password):\n",
    "        self.username = username\n",
    "        self.password = hash(password)\n",
    "        self.id = User.id_counter\n",
    "        User.id_counter += 1\n",
    "\n",
    "    def __str__(self):\n",
    "        return self.username\n",
    "    \n",
    "    def __repr__(self):\n",
    "        return f\"<User {self.id}|{self.username}>\"\n",
    "    \n",
    "#     def check_password(self, password, )"
   ]
  },
  {
   "cell_type": "code",
   "execution_count": 11,
   "id": "082c2ab3",
   "metadata": {},
   "outputs": [
    {
     "name": "stdout",
     "output_type": "stream",
     "text": [
      "Kevin\n"
     ]
    },
    {
     "data": {
      "text/plain": [
       "<User 1|Kevin>"
      ]
     },
     "execution_count": 11,
     "metadata": {},
     "output_type": "execute_result"
    }
   ],
   "source": [
    "u1 = User('Kevin', 'abc123')\n",
    "print(u1)\n",
    "u1"
   ]
  },
  {
   "cell_type": "code",
   "execution_count": 7,
   "id": "ea034b43",
   "metadata": {
    "scrolled": true
   },
   "outputs": [
    {
     "name": "stdout",
     "output_type": "stream",
     "text": [
      "hello rvvwvdfsdf dfbssdftunhdbfbvchbdfv kujynrhgbfvscjyhrgbfvdcyhtbgfvtycghdfsifvnkfgidjgbmkhiobnkdfjkb\n"
     ]
    }
   ],
   "source": [
    "print(\"hello\", \"rvvwvdfsdf\", \"dfbssdftunhdbfbvchbdfv\",\"kujynrhgbfvscjyhrgbfvdcyhtbgfv\"\"tycghdfsifvnkfgidjgbmkhiobnkdfjkb\" )"
   ]
  },
  {
   "cell_type": "code",
   "execution_count": null,
   "id": "7e232ea1",
   "metadata": {},
   "outputs": [],
   "source": []
  },
  {
   "cell_type": "code",
   "execution_count": 8,
   "id": "7f22772c",
   "metadata": {},
   "outputs": [
    {
     "ename": "SyntaxError",
     "evalue": "expected ':' (82620219.py, line 2)",
     "output_type": "error",
     "traceback": [
      "\u001b[1;36m  Cell \u001b[1;32mIn[8], line 2\u001b[1;36m\u001b[0m\n\u001b[1;33m    if u.username == user_username\u001b[0m\n\u001b[1;37m                                  ^\u001b[0m\n\u001b[1;31mSyntaxError\u001b[0m\u001b[1;31m:\u001b[0m expected ':'\n"
     ]
    }
   ],
   "source": [
    "for u in users:\n",
    "    if u.username == user_username\n",
    "    print('FOUND')"
   ]
  },
  {
   "cell_type": "code",
   "execution_count": 9,
   "id": "a0e72102",
   "metadata": {},
   "outputs": [
    {
     "name": "stdout",
     "output_type": "stream",
     "text": [
      "Enter a username: \n"
     ]
    },
    {
     "ename": "NameError",
     "evalue": "name 'users' is not defined",
     "output_type": "error",
     "traceback": [
      "\u001b[1;31m---------------------------------------------------------------------------\u001b[0m",
      "\u001b[1;31mNameError\u001b[0m                                 Traceback (most recent call last)",
      "Cell \u001b[1;32mIn[9], line 2\u001b[0m\n\u001b[0;32m      1\u001b[0m user_username \u001b[38;5;241m=\u001b[39m \u001b[38;5;28minput\u001b[39m (\u001b[38;5;124m'\u001b[39m\u001b[38;5;124mEnter a username: \u001b[39m\u001b[38;5;124m'\u001b[39m)\n\u001b[1;32m----> 2\u001b[0m \u001b[38;5;28;01mif\u001b[39;00m user_username \u001b[38;5;129;01min\u001b[39;00m [u\u001b[38;5;241m.\u001b[39musername \u001b[38;5;28;01mfor\u001b[39;00m u \u001b[38;5;129;01min\u001b[39;00m \u001b[43musers\u001b[49m]:\n\u001b[0;32m      3\u001b[0m     \u001b[38;5;28mprint\u001b[39m(\u001b[38;5;124m'\u001b[39m\u001b[38;5;124mFind a new name\u001b[39m\u001b[38;5;124m'\u001b[39m)\n\u001b[0;32m      4\u001b[0m \u001b[38;5;28;01melse\u001b[39;00m:\n",
      "\u001b[1;31mNameError\u001b[0m: name 'users' is not defined"
     ]
    }
   ],
   "source": [
    "user_username = input ('Enter a username: ')\n",
    "if user_username in [u.username for u in users]:\n",
    "    print('Find a new name')\n",
    "else:\n",
    "    print('We can create')\n",
    "    "
   ]
  },
  {
   "cell_type": "code",
   "execution_count": null,
   "id": "68d78add",
   "metadata": {},
   "outputs": [],
   "source": [
    "username_attempt = input('What us your username? ')\n",
    "passwors_attempt = input('What is your password? ')\n",
    "\n",
    "#Loop though all of the users\n",
    "for user in users:\n",
    "    #check to see id the user has that username and password\n",
    "    if user.username == username_attempt and user.check_password(password_attempt):\n",
    "        print(f\"{user} has been logged in\")\n",
    "        break\n",
    "else:\n",
    "    print(\"No user with that username/password\")"
   ]
  },
  {
   "cell_type": "code",
   "execution_count": null,
   "id": "c64f095c",
   "metadata": {},
   "outputs": [],
   "source": []
  }
 ],
 "metadata": {
  "kernelspec": {
   "display_name": "Python 3 (ipykernel)",
   "language": "python",
   "name": "python3"
  },
  "language_info": {
   "codemirror_mode": {
    "name": "ipython",
    "version": 3
   },
   "file_extension": ".py",
   "mimetype": "text/x-python",
   "name": "python",
   "nbconvert_exporter": "python",
   "pygments_lexer": "ipython3",
   "version": "3.10.9"
  }
 },
 "nbformat": 4,
 "nbformat_minor": 5
}
